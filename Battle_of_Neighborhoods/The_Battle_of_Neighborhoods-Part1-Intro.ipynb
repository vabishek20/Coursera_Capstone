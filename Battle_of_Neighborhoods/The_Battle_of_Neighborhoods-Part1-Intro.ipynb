{
    "cells": [
        {
            "cell_type": "markdown",
            "metadata": {
                "collapsed": true
            },
            "source": "**Capstone Project \u2013 The Battle of the Neighborhoods (Week 1)**\n\n**Introduction/Business Problem:**\n\n**Background:**\n\nCanada has one of the hottest real estate markets in the world. Cities like Vancouver and Toronto lead the charts in terms of expensive housing in the country. Toronto attracts a lot of people from different part of the country and as well as the world as its technological hub is constantly growing and thriving. With ever increasing population in the Greater Toronto Area, the real estate market is having a hard time meeting the demand. This has resulted in the housing prices skyrocketing in the last few years. \n\n**Business Problem:**\n\nGiven the limited supply of housing and ever-increasing prices, it is imperative that people make an informed decision while buying a property.\n\nThis capstone project will explore the average prices of different neighborhoods in Toronto, analyze different venues in each of those neighborhoods and determine which venue categories, such as restaurants, schools, public transport and so on, have the most impact on housing prices. At the end, the top five categories that seem to affect housing prices will be summarized. \n\n\n**Target Audience:**\n\nThe results from this project should be very helpful to the general public that includes buyers and real estate agents who could use it as a potential tool to decide which neighborhood would be good to purchase a property in."
        }
    ],
    "metadata": {
        "kernelspec": {
            "display_name": "Python 3.6",
            "language": "python",
            "name": "python3"
        },
        "language_info": {
            "codemirror_mode": {
                "name": "ipython",
                "version": 3
            },
            "file_extension": ".py",
            "mimetype": "text/x-python",
            "name": "python",
            "nbconvert_exporter": "python",
            "pygments_lexer": "ipython3",
            "version": "3.6.9"
        }
    },
    "nbformat": 4,
    "nbformat_minor": 1
}